{
  "nbformat": 4,
  "nbformat_minor": 0,
  "metadata": {
    "colab": {
      "provenance": [],
      "authorship_tag": "ABX9TyOSTDLyH1TVytkzSzKKAqNo",
      "include_colab_link": true
    },
    "kernelspec": {
      "name": "python3",
      "display_name": "Python 3"
    },
    "language_info": {
      "name": "python"
    }
  },
  "cells": [
    {
      "cell_type": "markdown",
      "metadata": {
        "id": "view-in-github",
        "colab_type": "text"
      },
      "source": [
        "<a href=\"https://colab.research.google.com/github/rlfritz/My_First_LLM/blob/main/joguinho.ipynb\" target=\"_parent\"><img src=\"https://colab.research.google.com/assets/colab-badge.svg\" alt=\"Open In Colab\"/></a>"
      ]
    },
    {
      "cell_type": "code",
      "source": [
        "import requests\n",
        "import random\n",
        "url='https://raw.githubusercontent.com/guilhermeonrails/api-imersao-ia/main/words.json'\n",
        "resposta=requests.get(url)\n",
        "data=resposta.json()\n",
        "secreto=random.choice(data)\n",
        "palavra=secreto['palavra']\n",
        "dica = secreto['dica']\n",
        "print(f'A palavra secreta tem {len(palavra)} letras')\n",
        "print(f'A dica é -> {dica}')\n",
        "chute=input(\"O que você acha que é? \")\n",
        "\n",
        "if chute == palavra:\n",
        "    print('parabéns!!acertou')\n",
        "else:\n",
        "    print(f'Errrouuuuu... a palavra secreta era {palavra}')\n",
        "\n",
        "\n",
        "\n"
      ],
      "metadata": {
        "colab": {
          "base_uri": "https://localhost:8080/"
        },
        "id": "DiyVGOMlKiCm",
        "outputId": "36412ed4-d919-4ef8-b839-c97f352ef853"
      },
      "execution_count": null,
      "outputs": [
        {
          "output_type": "stream",
          "name": "stdout",
          "text": [
            "A palavra secreta tem 7 letras\n",
            "A dica é -> desenvolver aplicativos e sistemas operacionais para computadores pessoais.\n",
            "O que você acha que é? python\n",
            "Errrouuuuu... a palavra secreta era windows\n"
          ]
        }
      ]
    }
  ]
}